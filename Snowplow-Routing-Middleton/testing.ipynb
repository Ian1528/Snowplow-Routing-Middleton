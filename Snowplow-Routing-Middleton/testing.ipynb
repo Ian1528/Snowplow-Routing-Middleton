{
 "cells": [
  {
   "cell_type": "markdown",
   "metadata": {},
   "source": [
    "# Testing Snowplow Algorithm"
   ]
  },
  {
   "cell_type": "code",
   "execution_count": 1,
   "metadata": {},
   "outputs": [],
   "source": [
    "import initialize\n",
    "import dual_graphs\n",
    "import pandas as pd\n",
    "import construction\n",
    "from shortest_paths import ShortestPaths"
   ]
  },
  {
   "cell_type": "code",
   "execution_count": 2,
   "metadata": {},
   "outputs": [
    {
     "name": "stdout",
     "output_type": "stream",
     "text": [
      "c:\\Users\\Sneez\\Desktop\\Snowplowing\\Snowplow-Routing-Middleton\n"
     ]
    },
    {
     "name": "stderr",
     "output_type": "stream",
     "text": [
      "c:\\Users\\Sneez\\Desktop\\Snowplowing\\Snowplow-Routing-Middleton\\.venv\\Lib\\site-packages\\IPython\\core\\magics\\osm.py:417: UserWarning: This is now an optional IPython functionality, setting dhist requires you to install the `pickleshare` library.\n",
      "  self.shell.db['dhist'] = compress_dhist(dhist)[-100:]\n"
     ]
    }
   ],
   "source": [
    "%pwd\n",
    "%cd .."
   ]
  },
  {
   "cell_type": "code",
   "execution_count": 3,
   "metadata": {},
   "outputs": [],
   "source": [
    "instance = \"smalltoy\"\n",
    "\n",
    "match instance:\n",
    "    case \"smallstreets\":\n",
    "        G = initialize.create_small_streets()\n",
    "    case \"fullstreets\":\n",
    "        G = initialize.create_full_streets()\n",
    "    case \"smalltoy\":\n",
    "        G = initialize.create_small_toy()\n",
    "    case _:\n",
    "        print(\"Invalid instance name\")\n",
    "        \n",
    "approach = \"genetic\"\n",
    "\n",
    "if approach == \"genetic\":\n",
    "    G = initialize.add_multi_edges(G)\n",
    "    if instance == \"smallstreets\" or instance == \"fullstreets\":\n",
    "        G_DUAL = dual_graphs.create_dual_streets(G)\n",
    "    else:\n",
    "        G_DUAL = dual_graphs.create_dual_toy(G)\n",
    "\n",
    "elif approach == \"annealing\":\n",
    "    if instance == \"smallstreets\" or instance == \"fullstreets\":\n",
    "        G_DUAL = dual_graphs.create_dual_streets(G, False, True)\n",
    "    else:\n",
    "        G_DUAL = dual_graphs.create_dual_toy(G, False, True)\n",
    "\n"
   ]
  },
  {
   "cell_type": "code",
   "execution_count": 4,
   "metadata": {},
   "outputs": [
    {
     "name": "stdout",
     "output_type": "stream",
     "text": [
      "MultiDiGraph with 15 nodes and 50 edges\n"
     ]
    }
   ],
   "source": [
    "print(G_DUAL)"
   ]
  },
  {
   "cell_type": "code",
   "execution_count": 5,
   "metadata": {},
   "outputs": [],
   "source": [
    "sp = ShortestPaths(G_DUAL, False, True)"
   ]
  },
  {
   "cell_type": "code",
   "execution_count": 6,
   "metadata": {},
   "outputs": [
    {
     "data": {
      "text/plain": [
       "([(1,\n",
       "   2,\n",
       "   0,\n",
       "   {'distance': 1,\n",
       "    'priority': 1,\n",
       "    'travel_time': 2,\n",
       "    'passes_rem': 1,\n",
       "    'salt_per': 1,\n",
       "    'deadheading_passes': 0,\n",
       "    'serviced': False}),\n",
       "  (1,\n",
       "   2,\n",
       "   1,\n",
       "   {'distance': 1,\n",
       "    'priority': 3,\n",
       "    'travel_time': 1,\n",
       "    'passes_rem': 2,\n",
       "    'salt_per': 1,\n",
       "    'deadheading_passes': 0,\n",
       "    'serviced': False}),\n",
       "  (1,\n",
       "   4,\n",
       "   0,\n",
       "   {'distance': 2,\n",
       "    'priority': 2,\n",
       "    'travel_time': 2,\n",
       "    'passes_rem': 1,\n",
       "    'salt_per': 1,\n",
       "    'deadheading_passes': 0,\n",
       "    'serviced': False})],\n",
       " 3,\n",
       " 4)"
      ]
     },
     "execution_count": 6,
     "metadata": {},
     "output_type": "execute_result"
    }
   ],
   "source": [
    "construction.process_node(G, 0, 1)"
   ]
  },
  {
   "cell_type": "code",
   "execution_count": 7,
   "metadata": {},
   "outputs": [
    {
     "data": {
      "text/plain": [
       "([[0 --> 2. (0) Deadhead: False. Had options: False. Salt value: 100,\n",
       "   2 --> 1. (0) Deadhead: False. Had options: True. Salt value: 99,\n",
       "   1 --> 2. (1) Deadhead: False. Had options: True. Salt value: 98,\n",
       "   2 --> 1. (1) Deadhead: False. Had options: True. Salt value: 97,\n",
       "   1 --> 2. (0) Deadhead: False. Had options: True. Salt value: 96,\n",
       "   2 --> 3. (1) Deadhead: False. Had options: True. Salt value: 95,\n",
       "   3 --> 4. (0) Deadhead: False. Had options: True. Salt value: 94,\n",
       "   4 --> 1. (0) Deadhead: False. Had options: True. Salt value: 93,\n",
       "   1 --> 4. (0) Deadhead: False. Had options: True. Salt value: 92,\n",
       "   4 --> 3. (0) Deadhead: False. Had options: True. Salt value: 91,\n",
       "   3 --> 2. (0) Deadhead: False. Had options: True. Salt value: 90,\n",
       "   2 --> 3. (0) Deadhead: False. Had options: True. Salt value: 89,\n",
       "   3 --> 2. (1) Deadhead: False. Had options: True. Salt value: 88,\n",
       "   2 --> 0. (0) Deadhead: False. Had options: True. Salt value: 87]],\n",
       " [[0 --> 2. (0) Deadhead: False. Had options: False. Salt value: 100,\n",
       "   2 --> 1. (0) Deadhead: False. Had options: True. Salt value: 99,\n",
       "   1 --> 2. (1) Deadhead: False. Had options: True. Salt value: 98,\n",
       "   2 --> 1. (1) Deadhead: False. Had options: True. Salt value: 97,\n",
       "   1 --> 2. (0) Deadhead: False. Had options: True. Salt value: 96,\n",
       "   2 --> 3. (1) Deadhead: False. Had options: True. Salt value: 95,\n",
       "   3 --> 4. (0) Deadhead: False. Had options: True. Salt value: 94,\n",
       "   4 --> 1. (0) Deadhead: False. Had options: True. Salt value: 93,\n",
       "   1 --> 4. (0) Deadhead: False. Had options: True. Salt value: 92,\n",
       "   4 --> 3. (0) Deadhead: False. Had options: True. Salt value: 91,\n",
       "   3 --> 2. (0) Deadhead: False. Had options: True. Salt value: 90,\n",
       "   2 --> 3. (0) Deadhead: False. Had options: True. Salt value: 89,\n",
       "   3 --> 2. (1) Deadhead: False. Had options: True. Salt value: 88,\n",
       "   2 --> 0. (0) Deadhead: False. Had options: True. Salt value: 87]])"
      ]
     },
     "execution_count": 7,
     "metadata": {},
     "output_type": "execute_result"
    }
   ],
   "source": [
    "construction.route_generation(G, sp)"
   ]
  }
 ],
 "metadata": {
  "kernelspec": {
   "display_name": ".venv",
   "language": "python",
   "name": "python3"
  },
  "language_info": {
   "codemirror_mode": {
    "name": "ipython",
    "version": 3
   },
   "file_extension": ".py",
   "mimetype": "text/x-python",
   "name": "python",
   "nbconvert_exporter": "python",
   "pygments_lexer": "ipython3",
   "version": "3.12.3"
  }
 },
 "nbformat": 4,
 "nbformat_minor": 2
}
