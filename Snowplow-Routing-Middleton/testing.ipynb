{
 "cells": [
  {
   "cell_type": "markdown",
   "metadata": {},
   "source": [
    "# Testing Snowplow Algorithm"
   ]
  },
  {
   "cell_type": "code",
   "execution_count": 1,
   "metadata": {},
   "outputs": [],
   "source": [
    "import os\n",
    "# switch directories for import\n",
    "os.chdir('c:\\\\Users\\\\Sneez\\\\Desktop\\\\Snowplowing\\\\Snowplow-Routing-Middleton\\\\Snowplow-Routing-Middleton')\n",
    "\n",
    "import initialize\n",
    "import dual_graphs\n",
    "import pandas as pd\n",
    "import construction\n",
    "from shortest_paths import ShortestPaths\n",
    "from crossover import apply_crossover\n",
    "from genetic import run_genetic\n",
    "from solution import Solution\n",
    "from costs import routes_cost\n",
    "from params import *\n",
    "import plotting\n",
    "import local_search\n",
    "%load_ext autoreload\n",
    "%autoreload 2"
   ]
  },
  {
   "cell_type": "markdown",
   "metadata": {},
   "source": [
    "Autoreload documentation: https://ipython.readthedocs.io/en/stable/config/extensions/autoreload.html\n",
    "\n",
    "For reloading user modules"
   ]
  },
  {
   "cell_type": "code",
   "execution_count": 2,
   "metadata": {},
   "outputs": [],
   "source": [
    "toyEdgeFile = \"C:\\\\Users\\\\Sneez\\\\Desktop\\\\Snowplowing\\\\Snowplow-Routing-Middleton\\\\Snowplow-Routing-Middleton\\\\graph_data\\\\edges.csv\"\n",
    "toyNodeFile = \"C:\\\\Users\\\\Sneez\\\\Desktop\\\\Snowplowing\\\\Snowplow-Routing-Middleton\\\\Snowplow-Routing-Middleton\\\\graph_data\\\\nodes.csv\""
   ]
  },
  {
   "cell_type": "code",
   "execution_count": 3,
   "metadata": {},
   "outputs": [],
   "source": [
    "instance = \"smalltoy\"\n",
    "\n",
    "match instance:\n",
    "    case \"smallstreets\":\n",
    "        G = initialize.create_small_streets()\n",
    "    case \"fullstreets\":\n",
    "        G = initialize.create_full_streets()\n",
    "    case \"smalltoy\":\n",
    "        G = initialize.create_small_toy(toyEdgeFile, toyNodeFile)\n",
    "    case _:\n",
    "        print(\"Invalid instance name\")\n",
    "        \n",
    "approach = \"genetic\"\n",
    "\n",
    "if approach == \"genetic\":\n",
    "    G = initialize.add_multi_edges(G)\n",
    "    if instance == \"smallstreets\" or instance == \"fullstreets\":\n",
    "        G_DUAL = dual_graphs.create_dual_streets(G)\n",
    "    else:\n",
    "        G_DUAL = dual_graphs.create_dual_toy(G)\n",
    "\n",
    "elif approach == \"annealing\":\n",
    "    if instance == \"smallstreets\" or instance == \"fullstreets\":\n",
    "        G_DUAL = dual_graphs.create_dual_streets(G, False, True)\n",
    "    else:\n",
    "        G_DUAL = dual_graphs.create_dual_toy(G, False, True)\n",
    "\n"
   ]
  },
  {
   "cell_type": "code",
   "execution_count": 4,
   "metadata": {},
   "outputs": [
    {
     "name": "stdout",
     "output_type": "stream",
     "text": [
      "MultiDiGraph with 15 nodes and 50 edges\n"
     ]
    }
   ],
   "source": [
    "print(G_DUAL)"
   ]
  },
  {
   "cell_type": "code",
   "execution_count": 5,
   "metadata": {},
   "outputs": [],
   "source": [
    "sp = ShortestPaths(G_DUAL, False, True)"
   ]
  },
  {
   "cell_type": "code",
   "execution_count": 6,
   "metadata": {},
   "outputs": [
    {
     "data": {
      "text/plain": [
       "([(1,\n",
       "   2,\n",
       "   0,\n",
       "   {'distance': 1,\n",
       "    'priority': 1,\n",
       "    'travel_time': 2,\n",
       "    'passes_rem': 1,\n",
       "    'salt_per': 1,\n",
       "    'deadheading_passes': 0,\n",
       "    'serviced': False}),\n",
       "  (1,\n",
       "   2,\n",
       "   1,\n",
       "   {'distance': 1,\n",
       "    'priority': 3,\n",
       "    'travel_time': 1,\n",
       "    'passes_rem': 2,\n",
       "    'salt_per': 1,\n",
       "    'deadheading_passes': 0,\n",
       "    'serviced': False}),\n",
       "  (1,\n",
       "   4,\n",
       "   0,\n",
       "   {'distance': 2,\n",
       "    'priority': 2,\n",
       "    'travel_time': 2,\n",
       "    'passes_rem': 1,\n",
       "    'salt_per': 1,\n",
       "    'deadheading_passes': 0,\n",
       "    'serviced': False})],\n",
       " 3,\n",
       " 4)"
      ]
     },
     "execution_count": 6,
     "metadata": {},
     "output_type": "execute_result"
    }
   ],
   "source": [
    "construction.process_node(G, 0, 1)"
   ]
  },
  {
   "cell_type": "code",
   "execution_count": 7,
   "metadata": {},
   "outputs": [],
   "source": [
    "r, rreq = construction.route_generation(G, sp)\n"
   ]
  },
  {
   "cell_type": "code",
   "execution_count": 8,
   "metadata": {},
   "outputs": [
    {
     "name": "stdout",
     "output_type": "stream",
     "text": [
      "0 --> 2. (0) Salt value: 100. Prev: None. Next: (2, 1, 0). Route end: False\n",
      "2 --> 1. (0) Salt value: 99. Prev: (0, 2, 0). Next: (1, 2, 0). Route end: False\n",
      "1 --> 2. (0) Salt value: 98. Prev: (2, 1, 0). Next: (2, 3, 1). Route end: False\n",
      "2 --> 3. (1) Salt value: 97. Prev: (1, 2, 0). Next: (3, 2, 1). Route end: False\n",
      "3 --> 2. (1) Salt value: 96. Prev: (2, 3, 1). Next: (2, 0, 0). Route end: False\n",
      "2 --> 0. (0) Salt value: 95. Prev: (3, 2, 1). Next: (2, 1, 1). Route end: False\n",
      "***\n",
      "0 --> 2. (0) Salt value: 100. Prev: None. Next: None. Route end: False\n",
      "2 --> 1. (1) Salt value: 100. Prev: (2, 0, 0). Next: (1, 4, 0). Route end: False\n",
      "1 --> 4. (0) Salt value: 99. Prev: (2, 1, 1). Next: (4, 1, 0). Route end: False\n",
      "4 --> 1. (0) Salt value: 98. Prev: (1, 4, 0). Next: (1, 2, 1). Route end: False\n",
      "1 --> 2. (1) Salt value: 97. Prev: (4, 1, 0). Next: (2, 3, 0). Route end: False\n",
      "2 --> 3. (0) Salt value: 96. Prev: (1, 2, 1). Next: (3, 4, 0). Route end: False\n",
      "3 --> 4. (0) Salt value: 95. Prev: (2, 3, 0). Next: (4, 3, 0). Route end: False\n",
      "4 --> 3. (0) Salt value: 94. Prev: (3, 4, 0). Next: (3, 2, 0). Route end: False\n",
      "3 --> 2. (0) Salt value: 93. Prev: (4, 3, 0). Next: None. Route end: False\n",
      "2 --> 0. (0) Salt value: 92. Prev: None. Next: None. Route end: False\n",
      "***\n"
     ]
    }
   ],
   "source": [
    "for route in r:\n",
    "    for routestep in route:\n",
    "        print(routestep)\n",
    "    print(\"***\")\n"
   ]
  },
  {
   "cell_type": "code",
   "execution_count": 9,
   "metadata": {},
   "outputs": [
    {
     "name": "stdout",
     "output_type": "stream",
     "text": [
      "0 --> 2. (0) Salt value: 100. Prev: None. Next: (2, 1, 0). Route end: False\n",
      "2 --> 1. (0) Salt value: 99. Prev: (0, 2, 0). Next: (1, 2, 0). Route end: False\n",
      "1 --> 2. (0) Salt value: 98. Prev: (2, 1, 0). Next: (2, 3, 1). Route end: False\n",
      "2 --> 3. (1) Salt value: 97. Prev: (1, 2, 0). Next: (3, 2, 1). Route end: False\n",
      "3 --> 2. (1) Salt value: 96. Prev: (2, 3, 1). Next: (2, 0, 0). Route end: False\n",
      "2 --> 0. (0) Salt value: 95. Prev: (3, 2, 1). Next: (2, 1, 1). Route end: False\n",
      "**\n",
      "2 --> 1. (1) Salt value: 100. Prev: (2, 0, 0). Next: (1, 4, 0). Route end: False\n",
      "1 --> 4. (0) Salt value: 99. Prev: (2, 1, 1). Next: (4, 1, 0). Route end: False\n",
      "4 --> 1. (0) Salt value: 98. Prev: (1, 4, 0). Next: (1, 2, 1). Route end: False\n",
      "1 --> 2. (1) Salt value: 97. Prev: (4, 1, 0). Next: (2, 3, 0). Route end: False\n",
      "2 --> 3. (0) Salt value: 96. Prev: (1, 2, 1). Next: (3, 4, 0). Route end: False\n",
      "3 --> 4. (0) Salt value: 95. Prev: (2, 3, 0). Next: (4, 3, 0). Route end: False\n",
      "4 --> 3. (0) Salt value: 94. Prev: (3, 4, 0). Next: (3, 2, 0). Route end: False\n",
      "3 --> 2. (0) Salt value: 93. Prev: (4, 3, 0). Next: None. Route end: False\n",
      "**\n"
     ]
    }
   ],
   "source": [
    "for route in rreq:\n",
    "    for routestep in route:\n",
    "        print(routestep)\n",
    "    print(\"**\")"
   ]
  },
  {
   "cell_type": "markdown",
   "metadata": {},
   "source": [
    "Test Local Search"
   ]
  },
  {
   "cell_type": "code",
   "execution_count": 192,
   "metadata": {},
   "outputs": [
    {
     "name": "stdout",
     "output_type": "stream",
     "text": [
      "155.2\n",
      "0 --> 2. (0) Salt value: 100. Prev: None. Next: (2, 1, 0). Route end: False\n",
      "2 --> 1. (0) Salt value: 99. Prev: (0, 2, 0). Next: (1, 2, 0). Route end: False\n",
      "1 --> 2. (0) Salt value: 98. Prev: (2, 1, 0). Next: (2, 3, 1). Route end: False\n",
      "2 --> 3. (1) Salt value: 97. Prev: (1, 2, 0). Next: (3, 2, 1). Route end: False\n",
      "3 --> 2. (1) Salt value: 96. Prev: (2, 3, 1). Next: (2, 0, 0). Route end: False\n",
      "2 --> 0. (0) Salt value: 95. Prev: (3, 2, 1). Next: (2, 1, 1). Route end: False\n",
      "**\n",
      "2 --> 1. (1) Salt value: 100. Prev: (2, 0, 0). Next: (1, 4, 0). Route end: False\n",
      "1 --> 4. (0) Salt value: 99. Prev: (2, 1, 1). Next: (4, 1, 0). Route end: False\n",
      "4 --> 1. (0) Salt value: 98. Prev: (1, 4, 0). Next: (1, 2, 1). Route end: False\n",
      "1 --> 2. (1) Salt value: 97. Prev: (4, 1, 0). Next: (2, 3, 0). Route end: False\n",
      "2 --> 3. (0) Salt value: 96. Prev: (1, 2, 1). Next: (3, 4, 0). Route end: False\n",
      "3 --> 4. (0) Salt value: 95. Prev: (2, 3, 0). Next: (4, 3, 0). Route end: False\n",
      "4 --> 3. (0) Salt value: 94. Prev: (3, 4, 0). Next: (3, 2, 0). Route end: False\n",
      "3 --> 2. (0) Salt value: 93. Prev: (4, 3, 0). Next: None. Route end: False\n",
      "**\n"
     ]
    }
   ],
   "source": [
    "required_edges = set(edge[:3] for edge in G.edges(data=True, keys=True) if edge[3]['priority'] != 0)\n",
    "S_first = Solution(rreq, dict(), routes_cost(G, sp, rreq), 0)\n",
    "\n",
    "print(routes_cost(G, sp, S_first.routes))\n",
    "for route in S_first.routes:\n",
    "    for routestep in route:\n",
    "        print(routestep)\n",
    "    print(\"**\")"
   ]
  },
  {
   "cell_type": "code",
   "execution_count": 235,
   "metadata": {},
   "outputs": [
    {
     "name": "stdout",
     "output_type": "stream",
     "text": [
      "142.4\n",
      "0 --> 2. (0) Salt value: 100. Prev: None. Next: (2, 3, 1). Route end: False\n",
      "2 --> 3. (1) Salt value: 97. Prev: (0, 2, 0). Next: (3, 2, 0). Route end: False\n",
      "3 --> 2. (0) Salt value: 93. Prev: (2, 3, 1). Next: (2, 1, 1). Route end: True\n",
      "***\n",
      "2 --> 1. (1) Salt value: 100. Prev: (3, 2, 0). Next: (1, 4, 0). Route end: False\n",
      "1 --> 4. (0) Salt value: 99. Prev: (2, 1, 1). Next: (4, 1, 0). Route end: False\n",
      "4 --> 1. (0) Salt value: 98. Prev: (1, 4, 0). Next: (1, 2, 1). Route end: False\n",
      "1 --> 2. (1) Salt value: 97. Prev: (4, 1, 0). Next: (2, 3, 0). Route end: False\n",
      "2 --> 3. (0) Salt value: 96. Prev: (1, 2, 1). Next: (3, 4, 0). Route end: False\n",
      "3 --> 4. (0) Salt value: 95. Prev: (2, 3, 0). Next: (4, 3, 0). Route end: False\n",
      "4 --> 3. (0) Salt value: 94. Prev: (3, 4, 0). Next: (3, 2, 1). Route end: False\n",
      "3 --> 2. (1) Salt value: 96. Prev: (4, 3, 0). Next: (2, 1, 0). Route end: False\n",
      "2 --> 1. (0) Salt value: 99. Prev: (3, 2, 1). Next: (1, 2, 0). Route end: False\n",
      "1 --> 2. (0) Salt value: 98. Prev: (2, 1, 0). Next: (2, 0, 0). Route end: False\n",
      "2 --> 0. (0) Salt value: 95. Prev: (1, 2, 0). Next: None. Route end: True\n",
      "***\n"
     ]
    }
   ],
   "source": [
    "S_new = local_search.local_improve(S_first, G, sp, required_edges, K, threshold=1)\n",
    "print(routes_cost(G, sp, S_new.routes))\n",
    "for route in S_new.routes:\n",
    "    for routestep in route:\n",
    "        print(routestep)\n",
    "    print(\"***\")"
   ]
  },
  {
   "cell_type": "code",
   "execution_count": 41,
   "metadata": {},
   "outputs": [
    {
     "name": "stdout",
     "output_type": "stream",
     "text": [
      "0 --> 2. (0) Salt value: 100. Prev: None. Next: (2, 1, 0). Route end: False\n",
      "2 --> 1. (0) Salt value: 99. Prev: (0, 2, 0). Next: (1, 2, 0). Route end: False\n",
      "1 --> 2. (0) Salt value: 98. Prev: (2, 1, 0). Next: (2, 3, 1). Route end: False\n",
      "2 --> 3. (1) Salt value: 97. Prev: (1, 2, 0). Next: (3, 2, 1). Route end: False\n",
      "3 --> 2. (1) Salt value: 96. Prev: (2, 3, 1). Next: (2, 0, 0). Route end: False\n",
      "2 --> 0. (0) Salt value: 95. Prev: (3, 2, 1). Next: (2, 1, 1). Route end: False\n",
      "***\n",
      "2 --> 1. (1) Salt value: 100. Prev: (2, 0, 0). Next: (1, 4, 0). Route end: False\n",
      "1 --> 4. (0) Salt value: 99. Prev: (2, 1, 1). Next: (4, 1, 0). Route end: False\n",
      "4 --> 1. (0) Salt value: 98. Prev: (1, 4, 0). Next: (1, 2, 1). Route end: False\n",
      "1 --> 2. (1) Salt value: 97. Prev: (4, 1, 0). Next: (2, 3, 0). Route end: False\n",
      "2 --> 3. (0) Salt value: 96. Prev: (1, 2, 1). Next: (3, 4, 0). Route end: False\n",
      "3 --> 4. (0) Salt value: 95. Prev: (2, 3, 0). Next: (4, 3, 0). Route end: False\n",
      "4 --> 3. (0) Salt value: 94. Prev: (3, 4, 0). Next: (3, 2, 0). Route end: False\n",
      "3 --> 2. (0) Salt value: 93. Prev: (4, 3, 0). Next: None. Route end: False\n",
      "***\n"
     ]
    }
   ],
   "source": []
  },
  {
   "cell_type": "code",
   "execution_count": 13,
   "metadata": {},
   "outputs": [
    {
     "name": "stdout",
     "output_type": "stream",
     "text": [
      "1 --> 2. (0) Salt value: 98. Prev: None. Next: (2, 0, 0). Route end: False\n",
      "2 --> 0. (0) Salt value: 97. Prev: (1, 2, 0). Next: (3, 2, 1). Route end: True\n",
      "***\n",
      "3 --> 2. (1) Salt value: 95. Prev: (2, 0, 0). Next: (4, 1, 0). Route end: False\n",
      "4 --> 1. (0) Salt value: 98. Prev: (3, 2, 1). Next: (4, 3, 0). Route end: False\n",
      "4 --> 3. (0) Salt value: 92. Prev: (4, 1, 0). Next: (1, 2, 1). Route end: False\n",
      "1 --> 2. (1) Salt value: 97. Prev: (4, 3, 0). Next: (2, 1, 0). Route end: False\n",
      "2 --> 1. (0) Salt value: 99. Prev: (1, 2, 1). Next: (3, 4, 0). Route end: False\n",
      "3 --> 4. (0) Salt value: 99. Prev: (2, 1, 0). Next: (1, 4, 0). Route end: False\n",
      "1 --> 4. (0) Salt value: 93. Prev: (3, 4, 0). Next: (0, 2, 0). Route end: False\n",
      "0 --> 2. (0) Salt value: 100. Prev: (1, 4, 0). Next: (2, 3, 1). Route end: False\n",
      "2 --> 3. (1) Salt value: 100. Prev: (0, 2, 0). Next: (2, 1, 1). Route end: False\n",
      "2 --> 1. (1) Salt value: 94. Prev: (2, 3, 1). Next: (2, 3, 0). Route end: False\n",
      "2 --> 3. (0) Salt value: 96. Prev: (2, 1, 1). Next: (3, 2, 0). Route end: False\n",
      "3 --> 2. (0) Salt value: 91. Prev: (2, 3, 0). Next: None. Route end: True\n",
      "***\n"
     ]
    }
   ],
   "source": [
    "for route in S_new.routes:\n",
    "    for routestep in route:\n",
    "        print(routestep)\n",
    "    print(\"***\")"
   ]
  },
  {
   "cell_type": "code",
   "execution_count": 14,
   "metadata": {},
   "outputs": [
    {
     "name": "stdout",
     "output_type": "stream",
     "text": [
      "initial generation 0\n",
      "initial generation 1\n",
      "initial generation 2\n",
      "initial generation 3\n",
      "initial generation 4\n",
      "initial generation 5\n",
      "initial generation 6\n",
      "initial generation 7\n",
      "initial generation 8\n",
      "initial generation 9\n",
      "UNCONNECTED TAIL\n",
      "UNCONNECTED TAIL\n"
     ]
    },
    {
     "ename": "KeyboardInterrupt",
     "evalue": "",
     "output_type": "error",
     "traceback": [
      "\u001b[1;31m---------------------------------------------------------------------------\u001b[0m",
      "\u001b[1;31mKeyboardInterrupt\u001b[0m                         Traceback (most recent call last)",
      "Cell \u001b[1;32mIn[14], line 2\u001b[0m\n\u001b[0;32m      1\u001b[0m \u001b[38;5;66;03m# 4. Route Improvement Algorithms\u001b[39;00m\n\u001b[1;32m----> 2\u001b[0m sol \u001b[38;5;241m=\u001b[39m \u001b[43mrun_genetic\u001b[49m\u001b[43m(\u001b[49m\u001b[43mG\u001b[49m\u001b[43m,\u001b[49m\u001b[43m \u001b[49m\u001b[43msp\u001b[49m\u001b[43m)\u001b[49m\n\u001b[0;32m      4\u001b[0m \u001b[38;5;28;01mfor\u001b[39;00m route \u001b[38;5;129;01min\u001b[39;00m sol\u001b[38;5;241m.\u001b[39mroutes:\n\u001b[0;32m      5\u001b[0m     \u001b[38;5;28;01mfor\u001b[39;00m edge \u001b[38;5;129;01min\u001b[39;00m route:\n",
      "File \u001b[1;32mc:\\Users\\Sneez\\Desktop\\Snowplowing\\Snowplow-Routing-Middleton\\Snowplow-Routing-Middleton\\genetic.py:119\u001b[0m, in \u001b[0;36mrun_genetic\u001b[1;34m(G, sp)\u001b[0m\n\u001b[0;32m    117\u001b[0m r, rreq \u001b[38;5;241m=\u001b[39m route_generation(G, sp)\n\u001b[0;32m    118\u001b[0m new_sol \u001b[38;5;241m=\u001b[39m Solution(rreq, \u001b[38;5;28mdict\u001b[39m(), routes_cost(G, sp, rreq), \u001b[38;5;241m0\u001b[39m)\n\u001b[1;32m--> 119\u001b[0m new_sol \u001b[38;5;241m=\u001b[39m \u001b[43mlocal_improve\u001b[49m\u001b[43m(\u001b[49m\u001b[43mnew_sol\u001b[49m\u001b[43m,\u001b[49m\u001b[43m \u001b[49m\u001b[43mG\u001b[49m\u001b[43m,\u001b[49m\u001b[43m \u001b[49m\u001b[43msp\u001b[49m\u001b[43m,\u001b[49m\u001b[43m \u001b[49m\u001b[43mrequired_edges\u001b[49m\u001b[43m,\u001b[49m\u001b[43m \u001b[49m\u001b[43mK\u001b[49m\u001b[43m)\u001b[49m\n\u001b[0;32m    121\u001b[0m \u001b[38;5;28;01mif\u001b[39;00m i \u001b[38;5;241m==\u001b[39m \u001b[38;5;241m0\u001b[39m:\n\u001b[0;32m    122\u001b[0m     sol_best \u001b[38;5;241m=\u001b[39m new_sol\n",
      "File \u001b[1;32mc:\\Users\\Sneez\\Desktop\\Snowplowing\\Snowplow-Routing-Middleton\\Snowplow-Routing-Middleton\\local_search.py:610\u001b[0m, in \u001b[0;36mlocal_improve\u001b[1;34m(S, G, sp, required_edges, K, threshold)\u001b[0m\n\u001b[0;32m    604\u001b[0m             modified: \u001b[38;5;28mbool\u001b[39m \u001b[38;5;241m=\u001b[39m two_opt(routestep_dict, edge, neighboring_edge, sp, threshold\u001b[38;5;241m=\u001b[39mthreshold) \u001b[38;5;66;03m#TODO: change back to operator\u001b[39;00m\n\u001b[0;32m    605\u001b[0m             \u001b[38;5;66;03m# if modified:\u001b[39;00m\n\u001b[0;32m    606\u001b[0m             \u001b[38;5;66;03m#     print(\"Modified\")\u001b[39;00m\n\u001b[0;32m    607\u001b[0m             \u001b[38;5;66;03m# curr_cost = routes_cost(G, sp, S_curr_routes)\u001b[39;00m\n\u001b[0;32m    608\u001b[0m             \u001b[38;5;66;03m# if curr_cost < S_best.cost:\u001b[39;00m\n\u001b[0;32m    609\u001b[0m             \u001b[38;5;66;03m#     S_best = Solution(S_curr_routes, dict(), curr_cost, 0)\u001b[39;00m\n\u001b[1;32m--> 610\u001b[0m S_new\u001b[38;5;241m.\u001b[39mroutes \u001b[38;5;241m=\u001b[39m \u001b[43mlinked_list_to_individual\u001b[49m\u001b[43m(\u001b[49m\u001b[43mall_routes_original\u001b[49m\u001b[43m)\u001b[49m\n\u001b[0;32m    611\u001b[0m \u001b[38;5;28;01mreturn\u001b[39;00m S_new\n",
      "File \u001b[1;32mc:\\Users\\Sneez\\Desktop\\Snowplowing\\Snowplow-Routing-Middleton\\Snowplow-Routing-Middleton\\local_search.py:224\u001b[0m, in \u001b[0;36mlinked_list_to_individual\u001b[1;34m(head)\u001b[0m\n\u001b[0;32m    222\u001b[0m step \u001b[38;5;241m=\u001b[39m head\u001b[38;5;241m.\u001b[39mnext\n\u001b[0;32m    223\u001b[0m \u001b[38;5;28;01mwhile\u001b[39;00m step \u001b[38;5;241m!=\u001b[39m \u001b[38;5;28;01mNone\u001b[39;00m:\n\u001b[1;32m--> 224\u001b[0m     \u001b[38;5;28;01mif\u001b[39;00m \u001b[43mstep\u001b[49m\u001b[38;5;241;43m.\u001b[39;49m\u001b[43mprev\u001b[49m\u001b[38;5;241;43m.\u001b[39;49m\u001b[43mget_edge\u001b[49m\u001b[43m(\u001b[49m\u001b[43m)\u001b[49m \u001b[38;5;241m==\u001b[39m (DEPOT, DEPOT, \u001b[38;5;241m0\u001b[39m):\n\u001b[0;32m    225\u001b[0m         step\u001b[38;5;241m.\u001b[39mprev \u001b[38;5;241m=\u001b[39m \u001b[38;5;28;01mNone\u001b[39;00m\n\u001b[0;32m    226\u001b[0m     \u001b[38;5;28;01mif\u001b[39;00m step\u001b[38;5;241m.\u001b[39mnext\u001b[38;5;241m.\u001b[39mget_edge() \u001b[38;5;241m==\u001b[39m (DEPOT, DEPOT, \u001b[38;5;241m0\u001b[39m):\n",
      "File \u001b[1;32mc:\\Users\\Sneez\\Desktop\\Snowplowing\\Snowplow-Routing-Middleton\\Snowplow-Routing-Middleton\\routes_representations.py:40\u001b[0m, in \u001b[0;36mRouteStep.get_edge\u001b[1;34m(self)\u001b[0m\n\u001b[0;32m     37\u001b[0m \u001b[38;5;28;01mdef\u001b[39;00m \u001b[38;5;21m__repr__\u001b[39m(\u001b[38;5;28mself\u001b[39m):\n\u001b[0;32m     38\u001b[0m     \u001b[38;5;28;01mreturn\u001b[39;00m \u001b[38;5;28mstr\u001b[39m(\u001b[38;5;28mself\u001b[39m)\n\u001b[1;32m---> 40\u001b[0m \u001b[38;5;28;01mdef\u001b[39;00m \u001b[38;5;21mget_edge\u001b[39m(\u001b[38;5;28mself\u001b[39m) \u001b[38;5;241m-\u001b[39m\u001b[38;5;241m>\u001b[39m \u001b[38;5;28mtuple\u001b[39m[\u001b[38;5;28mint\u001b[39m, \u001b[38;5;28mint\u001b[39m, \u001b[38;5;28mint\u001b[39m]:\n\u001b[0;32m     41\u001b[0m \u001b[38;5;250m    \u001b[39m\u001b[38;5;124;03m\"\"\"\u001b[39;00m\n\u001b[0;32m     42\u001b[0m \u001b[38;5;124;03m    Returns the edge information of the route step.\u001b[39;00m\n\u001b[0;32m     43\u001b[0m \n\u001b[0;32m     44\u001b[0m \u001b[38;5;124;03m    Returns:\u001b[39;00m\n\u001b[0;32m     45\u001b[0m \u001b[38;5;124;03m        tuple[int, int, int]: A tuple containing the node1, node2, and edge_id of the route step.\u001b[39;00m\n\u001b[0;32m     46\u001b[0m \u001b[38;5;124;03m    \"\"\"\u001b[39;00m\n\u001b[0;32m     47\u001b[0m     \u001b[38;5;28;01mreturn\u001b[39;00m (\u001b[38;5;28mself\u001b[39m\u001b[38;5;241m.\u001b[39mnode1, \u001b[38;5;28mself\u001b[39m\u001b[38;5;241m.\u001b[39mnode2, \u001b[38;5;28mself\u001b[39m\u001b[38;5;241m.\u001b[39medge_id)\n",
      "\u001b[1;31mKeyboardInterrupt\u001b[0m: "
     ]
    }
   ],
   "source": [
    "# 4. Route Improvement Algorithms\n",
    "sol = run_genetic(G, sp)\n",
    "\n",
    "for route in sol.routes:\n",
    "    for edge in route:\n",
    "        print(edge)\n",
    "    print(\"***\")\n",
    "\n",
    "\n",
    "# 5. Plot final routes\n",
    "G_graph = plotting.add_order_attribute(G, sol.routes)\n",
    "plotting.draw_labeled_multigraph(G_graph, 'order', size=(50,25))\n",
    "\n",
    "print(\"DONE\")\n",
    "print(\"Routes cost\", sol.cost)"
   ]
  }
 ],
 "metadata": {
  "kernelspec": {
   "display_name": ".venv",
   "language": "python",
   "name": "python3"
  },
  "language_info": {
   "codemirror_mode": {
    "name": "ipython",
    "version": 3
   },
   "file_extension": ".py",
   "mimetype": "text/x-python",
   "name": "python",
   "nbconvert_exporter": "python",
   "pygments_lexer": "ipython3",
   "version": "3.12.3"
  }
 },
 "nbformat": 4,
 "nbformat_minor": 2
}
