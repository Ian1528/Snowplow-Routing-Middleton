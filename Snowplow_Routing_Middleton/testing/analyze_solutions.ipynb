{
 "cells": [
  {
   "cell_type": "markdown",
   "metadata": {},
   "source": [
    "# Analyzing the Solutions Obtained from Algorithm"
   ]
  },
  {
   "cell_type": "code",
   "execution_count": 1,
   "metadata": {},
   "outputs": [],
   "source": [
    "import os\n",
    "%load_ext autoreload\n",
    "%autoreload 2"
   ]
  },
  {
   "cell_type": "code",
   "execution_count": 34,
   "metadata": {},
   "outputs": [],
   "source": [
    "import Snowplow_Routing_Middleton.dual_graphs as dual_graphs\n",
    "import Snowplow_Routing_Middleton.construction as construction\n",
    "import Snowplow_Routing_Middleton.plotting as plotting\n",
    "import Snowplow_Routing_Middleton.local_search as local_search\n",
    "import Snowplow_Routing_Middleton.initialize as initialize\n",
    "import Snowplow_Routing_Middleton.params as params\n",
    "import Snowplow_Routing_Middleton.sectioning as sectioning\n",
    "import Snowplow_Routing_Middleton.costs as costs\n",
    "\n",
    "\n",
    "from Snowplow_Routing_Middleton.shortest_paths import ShortestPaths\n",
    "from Snowplow_Routing_Middleton.crossover import apply_crossover\n",
    "from Snowplow_Routing_Middleton.genetic import run_genetic\n",
    "from Snowplow_Routing_Middleton.solution import Solution\n",
    "from Snowplow_Routing_Middleton.costs import routes_cost, route_travel_time, calculate_time_deadheading\n",
    "from Snowplow_Routing_Middleton.routes_representations import create_full_routes_with_returns\n",
    "from Snowplow_Routing_Middleton.turns import turn_direction_count\n",
    "from Snowplow_Routing_Middleton.main import create_section_graphs_instances\n",
    "\n",
    "import pandas as pd\n",
    "import osmnx as ox\n",
    "import folium\n",
    "import folium.plugins\n",
    "import networkx as nx\n",
    "import pickle\n",
    "import matplotlib.pyplot as plt\n"
   ]
  },
  {
   "cell_type": "code",
   "execution_count": 3,
   "metadata": {},
   "outputs": [],
   "source": [
    "curr_path = os.path.abspath(\"\")\n",
    "parent_path = os.path.split(curr_path)[0]"
   ]
  },
  {
   "cell_type": "code",
   "execution_count": 4,
   "metadata": {},
   "outputs": [],
   "source": [
    "blue_polygon_path = os.path.join(parent_path, \"graph_data\\\\individual_sections\\\\route1_blue.gpkg\")\n",
    "orange_polygon_path = os.path.join(parent_path, \"graph_data\\\\individual_sections\\\\route2_orange.gpkg\")\n",
    "red_polygon_path = os.path.join(parent_path, \"graph_data\\\\individual_sections\\\\route4_red.gpkg\")\n",
    "green_polygon_path = os.path.join(parent_path, \"graph_data\\\\individual_sections\\\\route3_green.gpkg\")\n",
    "\n",
    "blue_shortestpaths_folder = os.path.join(parent_path, \"graph_data\\\\shortest_paths\\\\route1_blue\")\n",
    "orange_shortestpaths_folder = os.path.join(parent_path, \"graph_data\\\\shortest_paths\\\\route2_orange\")\n",
    "green_shortestpaths_folder = os.path.join(parent_path, \"graph_data\\\\shortest_paths\\\\route3_green\")\n",
    "red_shortestpaths_folder = os.path.join(parent_path, \"graph_data\\\\shortest_paths\\\\route4_red\")"
   ]
  },
  {
   "cell_type": "code",
   "execution_count": 9,
   "metadata": {},
   "outputs": [],
   "source": [
    "orange_solution_filepath = os.path.join(parent_path, \"solutions\\\\solution_orange.pickle\")\n",
    "green_solution_filepath = os.path.join(parent_path, \"solutions\\\\solution_green.pickle\")\n",
    "red_solution_filepath = os.path.join(parent_path, \"solutions\\\\solution_red.pickle\")\n",
    "blue_solution_filepath = os.path.join(parent_path, \"solutions\\\\solution_blue.pickle\")"
   ]
  },
  {
   "cell_type": "markdown",
   "metadata": {},
   "source": [
    "## Load graphs and shortest paths"
   ]
  },
  {
   "cell_type": "code",
   "execution_count": 25,
   "metadata": {},
   "outputs": [
    {
     "name": "stdout",
     "output_type": "stream",
     "text": [
      "Depot found, sections are done\n",
      "Adding depot source 136\n",
      "Graphs created. Depot is at 136\n",
      "Depot found, sections are done\n",
      "Adding depot source 310\n",
      "Graphs created. Depot is at 310\n",
      "Depot found, sections are done\n",
      "Adding depot source 277\n",
      "Graphs created. Depot is at 277\n",
      "Depot found, sections are done\n",
      "Adding depot source 274\n",
      "Graphs created. Depot is at 274\n"
     ]
    }
   ],
   "source": [
    "G_BLUE, G_BLUE_DUAL, BLUE_SP, BLUE_DEPOT = create_section_graphs_instances(blue_polygon_path, blue_shortestpaths_folder, required_parts=False)\n",
    "G_ORANGE, G_ORANGE_DUAL, ORANGE_SP, ORANGE_DEPOT = create_section_graphs_instances(orange_polygon_path, orange_shortestpaths_folder)\n",
    "G_RED, G_RED_DUAL, RED_SP, RED_DEPOT = create_section_graphs_instances(red_polygon_path, red_shortestpaths_folder)\n",
    "G_GREEN, G_GREEN_DUAL, GREEN_SP, GREEN_DEPOT = create_section_graphs_instances(green_polygon_path, green_shortestpaths_folder, plow_culdesacs=False)"
   ]
  },
  {
   "cell_type": "markdown",
   "metadata": {},
   "source": [
    "## Load solutions"
   ]
  },
  {
   "cell_type": "code",
   "execution_count": 13,
   "metadata": {},
   "outputs": [],
   "source": [
    "with open(blue_solution_filepath, 'rb') as f:\n",
    "    blue_solution: Solution = pickle.load(f)\n",
    "with open(orange_solution_filepath, 'rb') as f:\n",
    "    orange_solution: Solution = pickle.load(f)\n",
    "with open(green_solution_filepath, 'rb') as f:\n",
    "    green_solution: Solution = pickle.load(f)\n",
    "with open(red_solution_filepath, 'rb') as f:\n",
    "    red_solution: Solution = pickle.load(f)"
   ]
  },
  {
   "cell_type": "markdown",
   "metadata": {},
   "source": [
    "Travel times"
   ]
  },
  {
   "cell_type": "code",
   "execution_count": 43,
   "metadata": {},
   "outputs": [
    {
     "name": "stdout",
     "output_type": "stream",
     "text": [
      "cost 25535.08789768458\n",
      "travel_time 6.675279794974631 hours\n",
      "deadheading_time 1.3879427151119281 hours\n"
     ]
    }
   ],
   "source": [
    "cost = routes_cost(G_BLUE, BLUE_SP, blue_solution.routes, BLUE_DEPOT)\n",
    "blue_full_routes = create_full_routes_with_returns(G_BLUE, BLUE_SP, blue_solution.routes, BLUE_DEPOT)\n",
    "travel_time = route_travel_time(G_BLUE, blue_full_routes, BLUE_DEPOT)\n",
    "deadheading_time = calculate_time_deadheading(blue_solution.routes, BLUE_SP, BLUE_DEPOT)\n",
    "\n",
    "print(\"cost\", cost)\n",
    "print(\"travel_time\", travel_time/3600, \"hours\")\n",
    "print(\"deadheading_time\", deadheading_time/3600, \"hours\")"
   ]
  },
  {
   "cell_type": "code",
   "execution_count": 41,
   "metadata": {},
   "outputs": [
    {
     "name": "stdout",
     "output_type": "stream",
     "text": [
      "Returning to Depot\n",
      "cost 35982.679220472404\n",
      "travel_time 8.117226923177734 hours\n",
      "deadheading_time 1.7075995843365666 hours\n"
     ]
    }
   ],
   "source": [
    "cost = routes_cost(G_ORANGE, ORANGE_SP, orange_solution.routes, ORANGE_DEPOT)\n",
    "orange_full_routes = create_full_routes_with_returns(G_ORANGE, ORANGE_SP, orange_solution.routes, ORANGE_DEPOT)\n",
    "travel_time = route_travel_time(G_ORANGE, orange_full_routes, ORANGE_DEPOT)\n",
    "deadheading_time = calculate_time_deadheading(orange_solution.routes, ORANGE_SP, ORANGE_DEPOT)\n",
    "\n",
    "print(\"cost\", cost)\n",
    "print(\"travel_time\", travel_time/3600, \"hours\")\n",
    "print(\"deadheading_time\", deadheading_time/3600, \"hours\")"
   ]
  },
  {
   "cell_type": "code",
   "execution_count": 35,
   "metadata": {},
   "outputs": [
    {
     "name": "stdout",
     "output_type": "stream",
     "text": [
      "cost 26119.294383788147\n",
      "travel_time 6.329693129058135 hours\n",
      "deadheading time 1.5779938850296091 hours\n"
     ]
    }
   ],
   "source": [
    "cost = routes_cost(G_GREEN, GREEN_SP, green_solution.routes, GREEN_DEPOT)\n",
    "green_full_routes = create_full_routes_with_returns(G_GREEN, GREEN_SP, green_solution.routes, GREEN_DEPOT)\n",
    "travel_time = route_travel_time(G_GREEN, green_full_routes, GREEN_DEPOT)\n",
    "deadheading_time = calculate_time_deadheading(green_solution.routes, GREEN_SP, GREEN_DEPOT)\n",
    "\n",
    "print(\"cost\", cost)\n",
    "print(\"travel_time\", travel_time/3600, \"hours\")\n",
    "print(\"deadheading time\", deadheading_time/3600, \"hours\")\n"
   ]
  },
  {
   "cell_type": "code",
   "execution_count": 36,
   "metadata": {},
   "outputs": [
    {
     "name": "stdout",
     "output_type": "stream",
     "text": [
      "cost 29901.430962908584\n",
      "travel_time 6.850872464466601 hours\n",
      "deadheading time 1.2952310636564284 hours\n"
     ]
    }
   ],
   "source": [
    "cost = routes_cost(G_RED, RED_SP, red_solution.routes, RED_DEPOT)\n",
    "red_full_routes = create_full_routes_with_returns(G_RED, RED_SP, red_solution.routes, RED_DEPOT)\n",
    "travel_time = route_travel_time(G_RED, red_full_routes, RED_DEPOT)\n",
    "deadheading_time = calculate_time_deadheading(red_solution.routes, RED_SP, RED_DEPOT)\n",
    "\n",
    "print(\"cost\", cost)\n",
    "print(\"travel_time\", travel_time/3600, \"hours\")\n",
    "print(\"deadheading time\", deadheading_time/3600, \"hours\")"
   ]
  }
 ],
 "metadata": {
  "kernelspec": {
   "display_name": ".venv",
   "language": "python",
   "name": "python3"
  },
  "language_info": {
   "codemirror_mode": {
    "name": "ipython",
    "version": 3
   },
   "file_extension": ".py",
   "mimetype": "text/x-python",
   "name": "python",
   "nbconvert_exporter": "python",
   "pygments_lexer": "ipython3",
   "version": "3.12.3"
  }
 },
 "nbformat": 4,
 "nbformat_minor": 2
}
